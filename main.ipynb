{
 "cells": [
  {
   "cell_type": "code",
   "execution_count": null,
   "metadata": {},
   "outputs": [],
   "source": [
    "            #    product                   category              price        quatity       expiry date"
   ]
  },
  {
   "cell_type": "code",
   "execution_count": 2,
   "metadata": {},
   "outputs": [],
   "source": [
    "records={202101:{'Product':'Chana',      'Category':'Daal;','Price':20,'Quantity':50,'Expiry Date':2022},\n",
    "         202102:{'Product':'kitkat',     'Category':'Chocolate','Price':10,'Quantity': 40 ,'Expiry Date':2022},\n",
    "         202103:{'Product':'5 Star',     'Category':'Chocolate','Price':30,'Quantity':40,'Expiry Date':2022},\n",
    "         202104:{'Product':'Sneakers',   'Category':'Chocolate','Price':30,'Quantity':50,'Expiry Date':2022},\n",
    "         202104:{'Product':'Bournville', 'Category':'Chocolate','Price':100,'Quantity':50,'Expiry Date':2022},\n",
    "         202105:{'Product':'Perk',       'Category':'Chocolate','Price':5,'Quantity':50,  'Expiry Date':2022},\n",
    "         202106:{'Product':'Lays',       'Category':'Chips',    'Price':20,'Quantity':30,'Expiry Date':2023},\n",
    "         202107:{'Product':'Doritos',    'Category':'Chips',    'Price':35,'Quantity':60,'Expiry Date':2023}}\n",
    "        "
   ]
  },
  {
   "cell_type": "code",
   "execution_count": null,
   "metadata": {},
   "outputs": [],
   "source": []
  },
  {
   "cell_type": "code",
   "execution_count": 3,
   "metadata": {},
   "outputs": [],
   "source": [
    "import json"
   ]
  },
  {
   "cell_type": "code",
   "execution_count": 4,
   "metadata": {},
   "outputs": [],
   "source": [
    "js=json.dumps(records)"
   ]
  },
  {
   "cell_type": "code",
   "execution_count": 5,
   "metadata": {},
   "outputs": [
    {
     "data": {
      "text/plain": [
       "'{\"202101\": {\"Product\": \"Dairy Milk\", \"Category\": \"Chocolate\", \"Price\": 20, \"Quantity\": 50, \"Expiry Date\": 2022}, \"202102\": {\"Product\": \"kitkat\", \"Category\": \"Chocolate\", \"Price\": 10, \"Quantity\": 40, \"Expiry Date\": 2022}, \"202103\": {\"Product\": \"5 Star\", \"Category\": \"Chocolate\", \"Price\": 30, \"Quantity\": 40, \"Expiry Date\": 2022}, \"202104\": {\"Product\": \"Bournville\", \"Category\": \"Chocolate\", \"Price\": 100, \"Quantity\": 50, \"Expiry Date\": 2022}, \"202105\": {\"Product\": \"Perk\", \"Category\": \"Chocolate\", \"Price\": 5, \"Quantity\": 50, \"Expiry Date\": 2022}, \"202106\": {\"Product\": \"Lays\", \"Category\": \"Chips\", \"Price\": 20, \"Quantity\": 30, \"Expiry Date\": 2023}, \"202107\": {\"Product\": \"Doritos\", \"Category\": \"Chips\", \"Price\": 35, \"Quantity\": 60, \"Expiry Date\": 2023}}'"
      ]
     },
     "execution_count": 5,
     "metadata": {},
     "output_type": "execute_result"
    }
   ],
   "source": [
    "js"
   ]
  },
  {
   "cell_type": "code",
   "execution_count": 6,
   "metadata": {},
   "outputs": [],
   "source": [
    "fd=open(\"records.json\",'w')\n",
    "txt=fd.write(js)\n",
    "fd.close()\n"
   ]
  },
  {
   "cell_type": "code",
   "execution_count": 7,
   "metadata": {},
   "outputs": [],
   "source": [
    "\n",
    "fd=open(\"records.json\",'r')\n",
    "txt=fd.read()\n",
    "fd.close()"
   ]
  },
  {
   "cell_type": "code",
   "execution_count": 8,
   "metadata": {},
   "outputs": [
    {
     "data": {
      "text/plain": [
       "'{\"202101\": {\"Product\": \"Dairy Milk\", \"Category\": \"Chocolate\", \"Price\": 20, \"Quantity\": 50, \"Expiry Date\": 2022}, \"202102\": {\"Product\": \"kitkat\", \"Category\": \"Chocolate\", \"Price\": 10, \"Quantity\": 40, \"Expiry Date\": 2022}, \"202103\": {\"Product\": \"5 Star\", \"Category\": \"Chocolate\", \"Price\": 30, \"Quantity\": 40, \"Expiry Date\": 2022}, \"202104\": {\"Product\": \"Bournville\", \"Category\": \"Chocolate\", \"Price\": 100, \"Quantity\": 50, \"Expiry Date\": 2022}, \"202105\": {\"Product\": \"Perk\", \"Category\": \"Chocolate\", \"Price\": 5, \"Quantity\": 50, \"Expiry Date\": 2022}, \"202106\": {\"Product\": \"Lays\", \"Category\": \"Chips\", \"Price\": 20, \"Quantity\": 30, \"Expiry Date\": 2023}, \"202107\": {\"Product\": \"Doritos\", \"Category\": \"Chips\", \"Price\": 35, \"Quantity\": 60, \"Expiry Date\": 2023}}'"
      ]
     },
     "execution_count": 8,
     "metadata": {},
     "output_type": "execute_result"
    }
   ],
   "source": [
    "txt"
   ]
  },
  {
   "cell_type": "code",
   "execution_count": 9,
   "metadata": {},
   "outputs": [],
   "source": [
    "records=json.loads(js)"
   ]
  },
  {
   "cell_type": "code",
   "execution_count": 10,
   "metadata": {},
   "outputs": [
    {
     "data": {
      "text/plain": [
       "{'202101': {'Product': 'Dairy Milk',\n",
       "  'Category': 'Chocolate',\n",
       "  'Price': 20,\n",
       "  'Quantity': 50,\n",
       "  'Expiry Date': 2022},\n",
       " '202102': {'Product': 'kitkat',\n",
       "  'Category': 'Chocolate',\n",
       "  'Price': 10,\n",
       "  'Quantity': 40,\n",
       "  'Expiry Date': 2022},\n",
       " '202103': {'Product': '5 Star',\n",
       "  'Category': 'Chocolate',\n",
       "  'Price': 30,\n",
       "  'Quantity': 40,\n",
       "  'Expiry Date': 2022},\n",
       " '202104': {'Product': 'Bournville',\n",
       "  'Category': 'Chocolate',\n",
       "  'Price': 100,\n",
       "  'Quantity': 50,\n",
       "  'Expiry Date': 2022},\n",
       " '202105': {'Product': 'Perk',\n",
       "  'Category': 'Chocolate',\n",
       "  'Price': 5,\n",
       "  'Quantity': 50,\n",
       "  'Expiry Date': 2022},\n",
       " '202106': {'Product': 'Lays',\n",
       "  'Category': 'Chips',\n",
       "  'Price': 20,\n",
       "  'Quantity': 30,\n",
       "  'Expiry Date': 2023},\n",
       " '202107': {'Product': 'Doritos',\n",
       "  'Category': 'Chips',\n",
       "  'Price': 35,\n",
       "  'Quantity': 60,\n",
       "  'Expiry Date': 2023}}"
      ]
     },
     "execution_count": 10,
     "metadata": {},
     "output_type": "execute_result"
    }
   ],
   "source": [
    "records"
   ]
  },
  {
   "cell_type": "markdown",
   "metadata": {},
   "source": [
    "\n",
    "\n"
   ]
  },
  {
   "cell_type": "code",
   "execution_count": 11,
   "metadata": {},
   "outputs": [],
   "source": [
    "import time"
   ]
  },
  {
   "cell_type": "code",
   "execution_count": 18,
   "metadata": {},
   "outputs": [
    {
     "name": "stdout",
     "output_type": "stream",
     "text": [
      "Here is the list of items available\n",
      "********************************************\n",
      "1 Dairy Milk\n",
      "2 kitkat\n",
      "3 5 Star\n",
      "4 Bournville\n",
      "5 Perk\n",
      "6 Lays\n",
      "7 Doritos\n",
      "********************************************\n",
      "enter the no of items you want to purchase: 1\n",
      "enter the product id : 202101\n",
      "enter the quantity: 2\n",
      "Product- Dairy Milk\n",
      "Category- Chocolate\n",
      "Price- 20\n",
      "Quantity- 2\n",
      "Expiry Date- 2022\n",
      "time of purchase - Mon Sep  6 20:37:36 2021\n",
      "********************************************\n",
      "your total amount is =  40\n",
      "********************************************\n",
      "you total purchase amount is  40\n"
     ]
    }
   ],
   "source": [
    "  def storeInJson():\n",
    "    js=json.dumps(records)\n",
    "    fd=open(\"records.json\",'w')\n",
    "    txt=fd.write(js)\n",
    "    fd.close()\n",
    "\n",
    "\n",
    "\n",
    "print(\"Here is the list of items available\")\n",
    "print(\"********************************************\")\n",
    "j=1\n",
    "for i in records:\n",
    "\n",
    "    print(j,records[i][\"Product\"])\n",
    "    j+=1\n",
    "print(\"********************************************\")    \n",
    "n=int(input(\"enter the no of items you want to purchase: \"))\n",
    "s=0\n",
    "for i in range(n):\n",
    "    \n",
    "    pro_id=input(\"enter the product id : \")\n",
    "\n",
    "    quant=int(input(\"enter the quantity: \"))\n",
    "    if(quant<=records[pro_id]['Quantity']):\n",
    "\n",
    "        if pro_id in records.keys():\n",
    "\n",
    "            print(\"Product-\",records[pro_id]['Product'])\n",
    "            print(\"Category-\",records[pro_id]['Category'])\n",
    "            print(\"Price-\",records[pro_id]['Price'])\n",
    "            print(\"Quantity-\",quant)\n",
    "            print(\"Expiry Date-\",records[pro_id]['Expiry Date'])\n",
    "            print(\"time of purchase -\", time.ctime())     \n",
    "            print(\"********************************************\") \n",
    "            p=records[pro_id]['Price']*quant\n",
    "            print(\"your total amount is = \",p)\n",
    "            print(\"********************************************\") \n",
    "            records[pro_id][\"Quantity\"]=records[pro_id]['Quantity']-quant\n",
    "            s=s+p\n",
    "\n",
    "        else:\n",
    "            print(\"invalid id\")\n",
    "    else:\n",
    "        y=quant-records[pro_id]['Quantity']\n",
    "        print(\"you have asked\",y ,\"more then we have in stock\")\n",
    "        \n",
    "print(\"you total purchase amount is \",s)\n",
    "\n",
    "        \n",
    "       \n",
    "\n",
    "\n",
    "\n",
    "\n",
    "   "
   ]
  },
  {
   "cell_type": "code",
   "execution_count": 14,
   "metadata": {},
   "outputs": [
    {
     "data": {
      "text/plain": [
       "{'202101': {'Product': 'Dairy Milk',\n",
       "  'Category': 'Chocolate',\n",
       "  'Price': 20,\n",
       "  'Quantity': 50,\n",
       "  'Expiry Date': 2022},\n",
       " '202102': {'Product': 'kitkat',\n",
       "  'Category': 'Chocolate',\n",
       "  'Price': 10,\n",
       "  'Quantity': 40,\n",
       "  'Expiry Date': 2022},\n",
       " '202103': {'Product': '5 Star',\n",
       "  'Category': 'Chocolate',\n",
       "  'Price': 30,\n",
       "  'Quantity': 40,\n",
       "  'Expiry Date': 2022},\n",
       " '202104': {'Product': 'Bournville',\n",
       "  'Category': 'Chocolate',\n",
       "  'Price': 100,\n",
       "  'Quantity': 48,\n",
       "  'Expiry Date': 2022},\n",
       " '202105': {'Product': 'Perk',\n",
       "  'Category': 'Chocolate',\n",
       "  'Price': 5,\n",
       "  'Quantity': 50,\n",
       "  'Expiry Date': 2022},\n",
       " '202106': {'Product': 'Lays',\n",
       "  'Category': 'Chips',\n",
       "  'Price': 20,\n",
       "  'Quantity': 30,\n",
       "  'Expiry Date': 2023},\n",
       " '202107': {'Product': 'Doritos',\n",
       "  'Category': 'Chips',\n",
       "  'Price': 35,\n",
       "  'Quantity': 60,\n",
       "  'Expiry Date': 2023}}"
      ]
     },
     "execution_count": 14,
     "metadata": {},
     "output_type": "execute_result"
    }
   ],
   "source": [
    "records\n"
   ]
  },
  {
   "cell_type": "code",
   "execution_count": 17,
   "metadata": {},
   "outputs": [],
   "source": [
    "def salesInfo():\n",
    "    #category ,quant sold,amount\n",
    "    \n",
    "    dict\n",
    "    \n",
    "    "
   ]
  },
  {
   "cell_type": "code",
   "execution_count": 164,
   "metadata": {},
   "outputs": [],
   "source": [
    "\n"
   ]
  },
  {
   "cell_type": "code",
   "execution_count": null,
   "metadata": {},
   "outputs": [],
   "source": [
    "\n",
    "    "
   ]
  },
  {
   "cell_type": "code",
   "execution_count": 161,
   "metadata": {},
   "outputs": [],
   "source": []
  },
  {
   "cell_type": "code",
   "execution_count": null,
   "metadata": {},
   "outputs": [],
   "source": []
  },
  {
   "cell_type": "code",
   "execution_count": null,
   "metadata": {},
   "outputs": [],
   "source": []
  },
  {
   "cell_type": "code",
   "execution_count": null,
   "metadata": {},
   "outputs": [],
   "source": []
  },
  {
   "cell_type": "code",
   "execution_count": null,
   "metadata": {},
   "outputs": [],
   "source": []
  },
  {
   "cell_type": "code",
   "execution_count": null,
   "metadata": {},
   "outputs": [],
   "source": []
  }
 ],
 "metadata": {
  "kernelspec": {
   "display_name": "Python 3",
   "language": "python",
   "name": "python3"
  },
  "language_info": {
   "codemirror_mode": {
    "name": "ipython",
    "version": 3
   },
   "file_extension": ".py",
   "mimetype": "text/x-python",
   "name": "python",
   "nbconvert_exporter": "python",
   "pygments_lexer": "ipython3",
   "version": "3.8.5"
  }
 },
 "nbformat": 4,
 "nbformat_minor": 5
}
